{
 "cells": [
  {
   "cell_type": "code",
   "execution_count": null,
   "metadata": {
    "collapsed": true
   },
   "outputs": [],
   "source": [
    "# Parent class\n",
    "class Dog:\n",
    "\n",
    "    # Class attribute\n",
    "    species = 'mammal'\n",
    "\n",
    "    # Initializer / Instance attributes\n",
    "    def __init__(self, name, age):\n",
    "        self.name = name\n",
    "        self.age = age\n",
    "\n",
    "    # instance method\n",
    "    def description(self):\n",
    "        return \"{} is {} years old\".format(self.name, self.age)\n",
    "\n",
    "    # instance method\n",
    "    def speak(self, sound):\n",
    "        return \"{} says {}\".format(self.name, sound)\n",
    "\n",
    "\n",
    "# Child class (inherits from Dog() class)\n",
    "class RussellTerrier(Dog):\n",
    "    def run(self, speed):\n",
    "        return \"{} runs {}\".format(self.name, speed)\n",
    "\n",
    "\n",
    "# Child class (inherits from Dog() class)\n",
    "class Bulldog(Dog):\n",
    "    def run(self, speed):\n",
    "        return \"{} runs {}\".format(self.name, speed)\n",
    "\n",
    "\n",
    "# Child classes inherit attributes and\n",
    "# behaviors from the parent class\n",
    "jim = Bulldog(\"Jim\", 12)\n",
    "print(jim.description())\n",
    "\n",
    "# Child classes have specific attributes\n",
    "# and behaviors as well\n",
    "print(jim.run(\"slowly\"))\n",
    "\n",
    "# Is jim an instance of Dog()?\n",
    "print(isinstance(jim, Dog))\n",
    "\n",
    "# Is julie an instance of Dog()?\n",
    "julie = Dog(\"Julie\", 100)\n",
    "print(isinstance(julie, Dog))\n",
    "\n",
    "# Is johnny walker an instance of Bulldog()\n",
    "johnnywalker = RussellTerrier(\"Johnny Walker\", 4)\n",
    "print(isinstance(johnnywalker, Bulldog))\n",
    "\n",
    "# Is julie and instance of jim?\n",
    "print(isinstance(julie, jim))"
   ]
  }
 ],
 "metadata": {
  "kernelspec": {
   "display_name": "Python 3",
   "language": "python",
   "name": "python3"
  },
  "language_info": {
   "codemirror_mode": {
    "name": "ipython",
    "version": 3
   },
   "file_extension": ".py",
   "mimetype": "text/x-python",
   "name": "python",
   "nbconvert_exporter": "python",
   "pygments_lexer": "ipython3",
   "version": "3.6.3"
  }
 },
 "nbformat": 4,
 "nbformat_minor": 2
}
