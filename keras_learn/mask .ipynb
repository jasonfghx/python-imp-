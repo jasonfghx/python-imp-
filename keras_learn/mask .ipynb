{
 "cells": [
  {
   "cell_type": "code",
   "execution_count": null,
   "metadata": {
    "collapsed": true
   },
   "outputs": [],
   "source": [
    "class DrugDataset(utils.Dataset):\n",
    "    "
   ]
  },
  {
   "cell_type": "code",
   "execution_count": null,
   "metadata": {
    "collapsed": true
   },
   "outputs": [],
   "source": [
    "#得到该图中有多少个实例（物体）\n",
    "def get_obj_index(self, image):\n",
    "        n = np.max(image)\n",
    "        return n#解析labelme中得到的yaml文件，从而得到mask每一层对应的实例标签\n",
    "def from_yaml_get_class(self,image_id):\n",
    "        info=self.image_info[image_id]\n",
    "        with open(info['yaml_path']) as f:\n",
    "            temp=yaml.load(f.read())\n",
    "            labels=temp['label_names']\n",
    "            del labels[0]\n",
    "        return labels"
   ]
  },
  {
   "cell_type": "code",
   "execution_count": null,
   "metadata": {
    "collapsed": true
   },
   "outputs": [],
   "source": [
    "#重新写draw_mask\n",
    "def draw_mask(self, num_obj, mask, image):\n",
    "        info = self.image_info[image_id]\n",
    "        for index in range(num_obj):\n",
    "            for i in range(info['width']):\n",
    "                for j in range(info['height']):\n",
    "                    at_pixel = image.getpixel((i, j))\n",
    "                    if at_pixel == index + 1:\n",
    "                        mask[j, i, index] =1\n",
    "        return mask"
   ]
  },
  {
   "cell_type": "code",
   "execution_count": null,
   "metadata": {
    "collapsed": true
   },
   "outputs": [],
   "source": [
    "#重新写load_shapes，里面包含自己的自己的类别（我的是box、column、package、fruit四类）\n",
    "#并在self.image_info信息中添加了path、mask_path 、yaml_path\n",
    "def load_shapes(self, count, height, width, img_floder, mask_floder, imglist,dataset_root_path):\n",
    "        \"\"\"Generate the requested number of synthetic images.\n",
    "        count: number of images to generate.\n",
    "        height, width: the size of the generated images.\n",
    "        \"\"\"\n",
    "        # Add classes\n",
    "        self.add_class(\"shapes\", 1, \"box\")\n",
    "        self.add_class(\"shapes\", 2, \"column\")\n",
    "        self.add_class(\"shapes\", 3, \"package\")\n",
    "        self.add_class(\"shapes\", 4, \"colon\")\n",
    "        for i in range(count):\n",
    "            filestr = imglist[i].split(\".\")[0]\n",
    "            filestr = filestr.split(\"_\")[1]\n",
    "            mask_path = mask_floder + \"/\" + filestr + \".png\"\n",
    "            yaml_path=dataset_root_path+\"total/rgb_\"+filestr+\"_json/info.yaml\"\n",
    "            self.add_image(\"shapes\", image_id=i, path=img_floder + \"/\" + imglist[i],\n",
    "                           width=width, height=height, mask_path=mask_path,yaml_path=yaml_path)"
   ]
  },
  {
   "cell_type": "code",
   "execution_count": null,
   "metadata": {
    "collapsed": true
   },
   "outputs": [],
   "source": [
    "#重写load_mask\n",
    "    def load_mask(self, image_id):\n",
    "        \"\"\"Generate instance masks for shapes of the given image ID.\n",
    "        \"\"\"\n",
    "        global iter_num\n",
    "        info = self.image_info[image_id]\n",
    "        count = 1  # number of object\n",
    "        img = Image.open(info['mask_path'])\n",
    "        num_obj = self.get_obj_index(img)\n",
    "        mask = np.zeros([info['height'], info['width'], num_obj], dtype=np.uint8)\n",
    "        mask = self.draw_mask(num_obj, mask, img)\n",
    "        occlusion = np.logical_not(mask[:, :, -1]).astype(np.uint8)\n",
    "        for i in range(count - 2, -1, -1):\n",
    "            mask[:, :, i] = mask[:, :, i] * occlusion\n",
    "            occlusion = np.logical_and(occlusion, np.logical_not(mask[:, :, i]))\n",
    "        labels=[]\n",
    "        labels=self.from_yaml_get_class(image_id)\n",
    "        labels_form=[]\n",
    "        for i in range(len(labels)):\n",
    "            if labels[i].find(\"box\")!=-1:\n",
    "                #print \"box\"\n",
    "                labels_form.append(\"box\")\n",
    "            elif labels[i].find(\"column\")!=-1:\n",
    "                #print \"column\"\n",
    "                labels_form.append(\"column\")\n",
    "            elif labels[i].find(\"package\")!=-1:\n",
    "                #print \"package\"\n",
    "                labels_form.append(\"package\")\n",
    "            elif labels[i].find(\"colon\")!=-1:\n",
    "                #print \"fruit\"\n",
    "                labels_form.append(\"colon\")\n",
    "        class_ids = np.array([self.class_names.index(s) for s in labels_form])\n",
    "        return mask, class_ids.astype(np.int32)"
   ]
  }
 ],
 "metadata": {
  "kernelspec": {
   "display_name": "Python 3",
   "language": "python",
   "name": "python3"
  },
  "language_info": {
   "codemirror_mode": {
    "name": "ipython",
    "version": 3
   },
   "file_extension": ".py",
   "mimetype": "text/x-python",
   "name": "python",
   "nbconvert_exporter": "python",
   "pygments_lexer": "ipython3",
   "version": "3.6.3"
  }
 },
 "nbformat": 4,
 "nbformat_minor": 2
}
