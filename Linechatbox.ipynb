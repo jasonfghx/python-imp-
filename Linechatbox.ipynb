{
 "cells": [
  {
   "cell_type": "code",
   "execution_count": null,
   "metadata": {},
   "outputs": [],
   "source": [
    "!pip install flask"
   ]
  },
  {
   "cell_type": "code",
   "execution_count": 1,
   "metadata": {},
   "outputs": [],
   "source": [
    "from flask import Flask, request, abort\n",
    "\n",
    "from linebot import (\n",
    "    LineBotApi, WebhookHandler\n",
    ")\n",
    "from linebot.exceptions import (\n",
    "    InvalidSignatureError\n",
    ")\n",
    "from linebot.models import (\n",
    "    MessageEvent, TextMessage, TextSendMessage,\n",
    ")\n",
    "\n",
    "app = Flask(__name__)\n",
    "\n",
    "line_bot_api = LineBotApi('waYBzYoB4saPRFflENQvDwoAI9bQHsZJs2gdkFLqC49h0iixLy7R2meWVZfIXLc9MsaD3j46L9PBoeRjJkwgyS3JtCFdR37PAtTAGxGWx4cEZZCjqYNy8yRT8rUfXWqJO1xedWp2SmBJmH+mTaKAGQdB04t89/1O/w1cDnyilFU=')\n",
    "handler = WebhookHandler('0dade685067ec9b7550fd204864afe36')\n",
    "\n",
    "\n",
    "@app.route(\"/callback\", methods=['POST'])\n",
    "def callback():\n",
    "    # get X-Line-Signature header value\n",
    "    signature = request.headers['X-Line-Signature']\n",
    "\n",
    "    # get request body as text\n",
    "    body = request.get_data(as_text=True)\n",
    "    app.logger.info(\"Request body: \" + body)\n",
    "\n",
    "    # handle webhook body\n",
    "    try:\n",
    "        handler.handle(body, signature)\n",
    "    except InvalidSignatureError:\n",
    "        abort(400)\n",
    "\n",
    "    return 'OK'\n",
    "\n",
    "\n",
    "@handler.add(MessageEvent, message=TextMessage)\n",
    "def handle_message(event):\n",
    "    line_bot_api.reply_message(\n",
    "        event.reply_token,\n",
    "        TextSendMessage(text=event.message.text))\n",
    "\n",
    "\n"
   ]
  },
  {
   "cell_type": "code",
   "execution_count": 2,
   "metadata": {},
   "outputs": [],
   "source": [
    "from linebot.models import (\n",
    "    MessageEvent, VideoMessage\n",
    ")\n",
    "\n",
    "\n",
    "@handler.add(MessageEvent,message=VideoMessage)\n",
    "def save_video_message(event):\n",
    "    message_content = line_bot_api.get_message_content(event.message.id)\n",
    "\n",
    "    with open(\"./\"+event.message.id+\".mp4\", 'wb') as fd:\n",
    "        for chunk in message_content.iter_content():\n",
    "            fd.write(chunk)\n",
    "            \n",
    "    '''\n",
    "    分析碼寫在下面\n",
    "    '''        \n",
    "    # 讀取mp4檔案，匯入模型裡，取出預測結果，做成文字消息，發送回用戶\n",
    "    \n",
    "    line_bot_api.reply_message(\n",
    "        event.reply_token,\n",
    "        TextSendMessage(text=\"這邊留給你們放入分析結果\"))"
   ]
  },
  {
   "cell_type": "code",
   "execution_count": 3,
   "metadata": {},
   "outputs": [],
   "source": [
    "from linebot.models import (\n",
    "    MessageEvent, ImageMessage\n",
    ")\n",
    "\n",
    "\n",
    "@handler.add(MessageEvent,message=ImageMessage)\n",
    "def save_image_message(event):\n",
    "    message_content = line_bot_api.get_message_content(event.message.id)\n",
    "\n",
    "    with open(\"./\"+event.message.id+\".jpg\", 'wb') as fd:\n",
    "        for chunk in message_content.iter_content():\n",
    "            fd.write(chunk)\n",
    "            \n",
    "    '''\n",
    "    分析碼寫在下面\n",
    "    '''        \n",
    "    # 讀取mp4檔案，匯入模型裡，取出預測結果，做成文字消息，發送回用戶\n",
    "    \n",
    "    line_bot_api.reply_message(\n",
    "        event.reply_token,\n",
    "        TextSendMessage(text=\"照片啦\"))"
   ]
  },
  {
   "cell_type": "code",
   "execution_count": 4,
   "metadata": {},
   "outputs": [],
   "source": [
    "from linebot.models import (\n",
    "    MessageEvent,AudioMessage\n",
    ")\n",
    "\n",
    "\n",
    "@handler.add(MessageEvent,message=AudioMessage)\n",
    "def save_audio_message(event):\n",
    "    message_content = line_bot_api.get_message_content(event.message.id)\n",
    "\n",
    "    with open(\"./\"+event.message.id+\".mp3\", 'wb') as fd:\n",
    "        for chunk in message_content.iter_content():\n",
    "            fd.write(chunk)\n",
    "            \n",
    "    '''\n",
    "    分析碼寫在下面\n",
    "    '''        \n",
    "    # 讀取mp4檔案，匯入模型裡，取出預測結果，做成文字消息，發送回用戶\n",
    "    \n",
    "    line_bot_api.reply_message(\n",
    "        event.reply_token,\n",
    "        TextSendMessage(text=\"照片啦\"))"
   ]
  },
  {
   "cell_type": "code",
   "execution_count": null,
   "metadata": {},
   "outputs": [
    {
     "name": "stdout",
     "output_type": "stream",
     "text": [
      " * Serving Flask app \"__main__\" (lazy loading)\n",
      " * Environment: production\n",
      "   WARNING: Do not use the development server in a production environment.\n",
      "   Use a production WSGI server instead.\n",
      " * Debug mode: off\n"
     ]
    },
    {
     "name": "stderr",
     "output_type": "stream",
     "text": [
      " * Running on http://127.0.0.1:5000/ (Press CTRL+C to quit)\n",
      "127.0.0.1 - - [17/Feb/2019 18:21:24] \"\u001b[37mPOST /callback HTTP/1.1\u001b[0m\" 200 -\n",
      "127.0.0.1 - - [17/Feb/2019 18:21:29] \"\u001b[37mPOST /callback HTTP/1.1\u001b[0m\" 200 -\n"
     ]
    }
   ],
   "source": [
    "if __name__ == \"__main__\":\n",
    "    app.run()"
   ]
  },
  {
   "cell_type": "code",
   "execution_count": null,
   "metadata": {},
   "outputs": [],
   "source": []
  }
 ],
 "metadata": {
  "kernelspec": {
   "display_name": "Python 3",
   "language": "python",
   "name": "python3"
  },
  "language_info": {
   "codemirror_mode": {
    "name": "ipython",
    "version": 3
   },
   "file_extension": ".py",
   "mimetype": "text/x-python",
   "name": "python",
   "nbconvert_exporter": "python",
   "pygments_lexer": "ipython3",
   "version": "3.7.0"
  }
 },
 "nbformat": 4,
 "nbformat_minor": 2
}
